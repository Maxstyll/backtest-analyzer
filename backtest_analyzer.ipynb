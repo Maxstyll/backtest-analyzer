{
  "nbformat": 4,
  "nbformat_minor": 0,
  "metadata": {
    "colab": {
      "name": "backtest_analyzer.ipynb",
      "provenance": [],
      "collapsed_sections": [],
      "authorship_tag": "ABX9TyMsQdNaX/TR3yK6/cO0O9SL",
      "include_colab_link": true
    },
    "kernelspec": {
      "name": "python3",
      "display_name": "Python 3"
    }
  },
  "cells": [
    {
      "cell_type": "markdown",
      "metadata": {
        "id": "view-in-github",
        "colab_type": "text"
      },
      "source": [
        "<a href=\"https://colab.research.google.com/github/kaiovalente/backtest-analyzer/blob/master/backtest_analyzer.ipynb\" target=\"_parent\"><img src=\"https://colab.research.google.com/assets/colab-badge.svg\" alt=\"Open In Colab\"/></a>"
      ]
    },
    {
      "cell_type": "markdown",
      "metadata": {
        "id": "sujLFHsAaxWO",
        "colab_type": "text"
      },
      "source": [
        "### O objetivo deste estudo é analisar trades reais feitos pelo meu robô para operar Mini índice na bolsa brasileira B3\n",
        "\n",
        "Este robô opera com uma estratégia scalper no mercado futuro realizando em média 20 operações por dia.\n",
        "\n",
        "\n"
      ]
    },
    {
      "cell_type": "markdown",
      "metadata": {
        "id": "VGmS_ZknbpGV",
        "colab_type": "text"
      },
      "source": [
        "#### Importando Bibliotecas e CSV com dados dos trades realizados durante o mês de Janeiro\n",
        "\n"
      ]
    },
    {
      "cell_type": "code",
      "metadata": {
        "id": "sHi9ELZqJkCg",
        "colab_type": "code",
        "outputId": "d0fbad37-54df-456d-93ce-970ddfdf3880",
        "colab": {
          "base_uri": "https://localhost:8080/",
          "height": 406
        }
      },
      "source": [
        "#import de bibliotecas necessarias\n",
        "import pandas as pd\n",
        "import matplotlib.pyplot as plt\n",
        "import seaborn as sns\n",
        "import io\n",
        "import numpy as np\n",
        "\n",
        "%matplotlib inline\n",
        "\n",
        "#leitura do csv carregado via upload com encondig específico e ;\n",
        "df = pd.read_csv('https://raw.githubusercontent.com/kaiovalente/backtest-analyzer/master/backtest_janeiro.csv', encoding = \"ISO-8859-1\", sep=';')\n",
        "df\n"
      ],
      "execution_count": 92,
      "outputs": [
        {
          "output_type": "execute_result",
          "data": {
            "text/html": [
              "<div>\n",
              "<style scoped>\n",
              "    .dataframe tbody tr th:only-of-type {\n",
              "        vertical-align: middle;\n",
              "    }\n",
              "\n",
              "    .dataframe tbody tr th {\n",
              "        vertical-align: top;\n",
              "    }\n",
              "\n",
              "    .dataframe thead th {\n",
              "        text-align: right;\n",
              "    }\n",
              "</style>\n",
              "<table border=\"1\" class=\"dataframe\">\n",
              "  <thead>\n",
              "    <tr style=\"text-align: right;\">\n",
              "      <th></th>\n",
              "      <th>Ativo</th>\n",
              "      <th>Dia</th>\n",
              "      <th>Abertura</th>\n",
              "      <th>Fechamento</th>\n",
              "      <th>Tempo Operação</th>\n",
              "      <th>Qtd</th>\n",
              "      <th>Lado</th>\n",
              "      <th>Preço Compra</th>\n",
              "      <th>Preço Venda</th>\n",
              "      <th>Resultado Financeiro</th>\n",
              "      <th>Resultado Pontos</th>\n",
              "      <th>Total Acumulado</th>\n",
              "      <th>Acumlado Dia</th>\n",
              "    </tr>\n",
              "  </thead>\n",
              "  <tbody>\n",
              "    <tr>\n",
              "      <th>0</th>\n",
              "      <td>WING20</td>\n",
              "      <td>02/01/2020</td>\n",
              "      <td>02/01/2020 09:35</td>\n",
              "      <td>02/01/2020 09:59</td>\n",
              "      <td>23min47s</td>\n",
              "      <td>1</td>\n",
              "      <td>C</td>\n",
              "      <td>117.095,00</td>\n",
              "      <td>116.990,00</td>\n",
              "      <td>-21</td>\n",
              "      <td>-105</td>\n",
              "      <td>-21</td>\n",
              "      <td>-105</td>\n",
              "    </tr>\n",
              "    <tr>\n",
              "      <th>1</th>\n",
              "      <td>WING20</td>\n",
              "      <td>02/01/2020</td>\n",
              "      <td>02/01/2020 10:07</td>\n",
              "      <td>02/01/2020 10:12</td>\n",
              "      <td>4min57s</td>\n",
              "      <td>1</td>\n",
              "      <td>C</td>\n",
              "      <td>117.070,00</td>\n",
              "      <td>117.075,00</td>\n",
              "      <td>1</td>\n",
              "      <td>5</td>\n",
              "      <td>-20</td>\n",
              "      <td>-100</td>\n",
              "    </tr>\n",
              "    <tr>\n",
              "      <th>2</th>\n",
              "      <td>WING20</td>\n",
              "      <td>02/01/2020</td>\n",
              "      <td>02/01/2020 10:17</td>\n",
              "      <td>02/01/2020 10:22</td>\n",
              "      <td>5min27s</td>\n",
              "      <td>1</td>\n",
              "      <td>C</td>\n",
              "      <td>116.990,00</td>\n",
              "      <td>117.050,00</td>\n",
              "      <td>12</td>\n",
              "      <td>60</td>\n",
              "      <td>-8</td>\n",
              "      <td>-40</td>\n",
              "    </tr>\n",
              "    <tr>\n",
              "      <th>3</th>\n",
              "      <td>WING20</td>\n",
              "      <td>02/01/2020</td>\n",
              "      <td>02/01/2020 10:27</td>\n",
              "      <td>02/01/2020 10:30</td>\n",
              "      <td>2min53s</td>\n",
              "      <td>1</td>\n",
              "      <td>C</td>\n",
              "      <td>116.995,00</td>\n",
              "      <td>117.085,00</td>\n",
              "      <td>18</td>\n",
              "      <td>90</td>\n",
              "      <td>10</td>\n",
              "      <td>50</td>\n",
              "    </tr>\n",
              "    <tr>\n",
              "      <th>4</th>\n",
              "      <td>WING20</td>\n",
              "      <td>02/01/2020</td>\n",
              "      <td>02/01/2020 11:10</td>\n",
              "      <td>02/01/2020 11:11</td>\n",
              "      <td>25s</td>\n",
              "      <td>1</td>\n",
              "      <td>C</td>\n",
              "      <td>117.530,00</td>\n",
              "      <td>117.580,00</td>\n",
              "      <td>10</td>\n",
              "      <td>50</td>\n",
              "      <td>20</td>\n",
              "      <td>100</td>\n",
              "    </tr>\n",
              "    <tr>\n",
              "      <th>...</th>\n",
              "      <td>...</td>\n",
              "      <td>...</td>\n",
              "      <td>...</td>\n",
              "      <td>...</td>\n",
              "      <td>...</td>\n",
              "      <td>...</td>\n",
              "      <td>...</td>\n",
              "      <td>...</td>\n",
              "      <td>...</td>\n",
              "      <td>...</td>\n",
              "      <td>...</td>\n",
              "      <td>...</td>\n",
              "      <td>...</td>\n",
              "    </tr>\n",
              "    <tr>\n",
              "      <th>402</th>\n",
              "      <td>WING20</td>\n",
              "      <td>31/01/2020</td>\n",
              "      <td>31/01/2020 13:11</td>\n",
              "      <td>31/01/2020 13:11</td>\n",
              "      <td>30s</td>\n",
              "      <td>1</td>\n",
              "      <td>V</td>\n",
              "      <td>113.605,00</td>\n",
              "      <td>113.695,00</td>\n",
              "      <td>18</td>\n",
              "      <td>90</td>\n",
              "      <td>67</td>\n",
              "      <td>525</td>\n",
              "    </tr>\n",
              "    <tr>\n",
              "      <th>403</th>\n",
              "      <td>WING20</td>\n",
              "      <td>31/01/2020</td>\n",
              "      <td>31/01/2020 13:19</td>\n",
              "      <td>31/01/2020 13:23</td>\n",
              "      <td>4min36s</td>\n",
              "      <td>1</td>\n",
              "      <td>V</td>\n",
              "      <td>113.545,00</td>\n",
              "      <td>113.630,00</td>\n",
              "      <td>17</td>\n",
              "      <td>85</td>\n",
              "      <td>84</td>\n",
              "      <td>610</td>\n",
              "    </tr>\n",
              "    <tr>\n",
              "      <th>404</th>\n",
              "      <td>WING20</td>\n",
              "      <td>31/01/2020</td>\n",
              "      <td>31/01/2020 13:40</td>\n",
              "      <td>31/01/2020 14:13</td>\n",
              "      <td>33min49s</td>\n",
              "      <td>1</td>\n",
              "      <td>V</td>\n",
              "      <td>113.730,00</td>\n",
              "      <td>113.470,00</td>\n",
              "      <td>-52</td>\n",
              "      <td>-260</td>\n",
              "      <td>32</td>\n",
              "      <td>350</td>\n",
              "    </tr>\n",
              "    <tr>\n",
              "      <th>405</th>\n",
              "      <td>WING20</td>\n",
              "      <td>31/01/2020</td>\n",
              "      <td>31/01/2020 14:35</td>\n",
              "      <td>31/01/2020 14:44</td>\n",
              "      <td>9min43s</td>\n",
              "      <td>1</td>\n",
              "      <td>C</td>\n",
              "      <td>113.850,00</td>\n",
              "      <td>113.730,00</td>\n",
              "      <td>-24</td>\n",
              "      <td>-120</td>\n",
              "      <td>8</td>\n",
              "      <td>230</td>\n",
              "    </tr>\n",
              "    <tr>\n",
              "      <th>406</th>\n",
              "      <td>WING20</td>\n",
              "      <td>31/01/2020</td>\n",
              "      <td>31/01/2020 14:54</td>\n",
              "      <td>31/01/2020 15:07</td>\n",
              "      <td>13min3s</td>\n",
              "      <td>1</td>\n",
              "      <td>V</td>\n",
              "      <td>113.655,00</td>\n",
              "      <td>113.675,00</td>\n",
              "      <td>4</td>\n",
              "      <td>20</td>\n",
              "      <td>12</td>\n",
              "      <td>250</td>\n",
              "    </tr>\n",
              "  </tbody>\n",
              "</table>\n",
              "<p>407 rows × 13 columns</p>\n",
              "</div>"
            ],
            "text/plain": [
              "      Ativo         Dia  ... Total Acumulado Acumlado Dia\n",
              "0    WING20  02/01/2020  ...             -21         -105\n",
              "1    WING20  02/01/2020  ...             -20         -100\n",
              "2    WING20  02/01/2020  ...              -8          -40\n",
              "3    WING20  02/01/2020  ...              10           50\n",
              "4    WING20  02/01/2020  ...              20          100\n",
              "..      ...         ...  ...             ...          ...\n",
              "402  WING20  31/01/2020  ...              67          525\n",
              "403  WING20  31/01/2020  ...              84          610\n",
              "404  WING20  31/01/2020  ...              32          350\n",
              "405  WING20  31/01/2020  ...               8          230\n",
              "406  WING20  31/01/2020  ...              12          250\n",
              "\n",
              "[407 rows x 13 columns]"
            ]
          },
          "metadata": {
            "tags": []
          },
          "execution_count": 92
        }
      ]
    },
    {
      "cell_type": "markdown",
      "metadata": {
        "id": "nnGOBMEMb8Wj",
        "colab_type": "text"
      },
      "source": [
        "No total temos 407 trades no ativo WING20 de 02/01/2020 até 31/01/2020\n",
        "\n",
        "### Entendo os dados\n",
        "**Ativo:** Código do ativo operado\n",
        "\n",
        "**Dia:** Dia da operação\n",
        "\n",
        "**Abertura:** Dia e hora de abertura operação\n",
        "\n",
        "**Fechamento:** Dia e hora de fechamento da operação\n",
        "\n",
        "**Tempo Operação:** Duração da operação\n",
        "\n",
        "**Qtd:** Quantidade de contratos operados na operação\n",
        "\n",
        "**Lado:** 'C' para operação de compra 'V' para operação de venda\n",
        "\n",
        "**Preço Compra:** Preço de compra da operação\n",
        "\n",
        "**Preço Venda:** Preço de venda da operação\n",
        "\n",
        "**Resultado Financeiro:** Resultado em R$ da operação\n",
        "\n",
        "**Resultado Pontos:** Resultado em pontos da operação\n",
        "\n",
        "**Total Acumulado:** Resultado financeiro acumulado de todas as operações passadas até agora\n",
        "\n",
        "**Acumulado Dia:** Resultado em pontos acumulados de todas as operações deste dia\n"
      ]
    },
    {
      "cell_type": "markdown",
      "metadata": {
        "id": "1Td6R8iideFE",
        "colab_type": "text"
      },
      "source": [
        "### Visualização e distribuição dos dados numéricos\n"
      ]
    },
    {
      "cell_type": "code",
      "metadata": {
        "id": "Hm9xGWYOMW9p",
        "colab_type": "code",
        "outputId": "c049674a-5fc2-41b1-c079-c2aa8aafa9c0",
        "colab": {
          "base_uri": "https://localhost:8080/",
          "height": 52
        }
      },
      "source": [
        "#Total de linhas e colunas do arquivo\n",
        "print(\"Total de linhas: {}\".format(df.shape[0]))\n",
        "print(\"Colunas: {}\".format(df.shape[1]))"
      ],
      "execution_count": 0,
      "outputs": [
        {
          "output_type": "stream",
          "text": [
            "Total de linhas: 407\n",
            "Colunas: 13\n"
          ],
          "name": "stdout"
        }
      ]
    },
    {
      "cell_type": "code",
      "metadata": {
        "id": "VhU8JwtkOUGS",
        "colab_type": "code",
        "outputId": "e82311f0-69ea-454f-bf47-26138388d9df",
        "colab": {
          "base_uri": "https://localhost:8080/",
          "height": 606
        }
      },
      "source": [
        "# Histograma de todas as variáveis\n",
        "df.hist(bins=15, figsize=(15,10));"
      ],
      "execution_count": 0,
      "outputs": [
        {
          "output_type": "display_data",
          "data": {
            "image/png": "[encoded data removed]",
            "text/plain": [
              "<Figure size 1080x720 with 6 Axes>"
            ]
          },
          "metadata": {
            "tags": []
          }
        }
      ]
    },
    {
      "cell_type": "markdown",
      "metadata": {
        "id": "auIP_Q5ZduhW",
        "colab_type": "text"
      },
      "source": [
        "Neste gráfico podemos a curva de capital gerada pela execução estratégia durante todo o mês de janeiro. \n",
        "\n",
        "Nota-se que o resultado final ficou bem próximo de 0 com apenas **R$ 12** positivos\n"
      ]
    },
    {
      "cell_type": "code",
      "metadata": {
        "id": "wyxl0VlAOj25",
        "colab_type": "code",
        "outputId": "a1d91df5-1af4-46ac-8be6-a47ed0914569",
        "colab": {
          "base_uri": "https://localhost:8080/",
          "height": 326
        }
      },
      "source": [
        "#Curva de capital da estratégia\n",
        "df.set_index('Dia')['Total Acumulado'].plot();\n",
        "plt.xticks(rotation=90);"
      ],
      "execution_count": 115,
      "outputs": [
        {
          "output_type": "display_data",
          "data": {
            "image/png": "[encoded data removed]",
            "text/plain": [
              "<Figure size 432x288 with 1 Axes>"
            ]
          },
          "metadata": {
            "tags": []
          }
        }
      ]
    },
    {
      "cell_type": "code",
      "metadata": {
        "id": "V3ESKx-nQZT2",
        "colab_type": "code",
        "outputId": "92b580f6-8db3-4b25-855a-e5ea2032b57c",
        "colab": {
          "base_uri": "https://localhost:8080/",
          "height": 176
        }
      },
      "source": [
        "df['Resultado Pontos'].describe()"
      ],
      "execution_count": 0,
      "outputs": [
        {
          "output_type": "execute_result",
          "data": {
            "text/plain": [
              "count    407.000000\n",
              "mean       0.147420\n",
              "std      129.896142\n",
              "min     -715.000000\n",
              "25%       -7.500000\n",
              "50%       35.000000\n",
              "75%       65.000000\n",
              "max      210.000000\n",
              "Name: Resultado Pontos, dtype: float64"
            ]
          },
          "metadata": {
            "tags": []
          },
          "execution_count": 45
        }
      ]
    },
    {
      "cell_type": "markdown",
      "metadata": {
        "id": "Jth1EXu5RKdo",
        "colab_type": "text"
      },
      "source": [
        "**Maximo Loss:** 715 pontos\n",
        "\n",
        "**Maximo Gain:** 210 pontos\n",
        "\n",
        "**Mediana:** 35 pontos\n",
        "\n",
        "\n"
      ]
    },
    {
      "cell_type": "markdown",
      "metadata": {
        "id": "hZasfHyaeYdE",
        "colab_type": "text"
      },
      "source": [
        "### Visualização de todos os trades em um gráfico de pontos e barra\n",
        "\n",
        "Nota-se **7** operações perdedoras com mais de 500 pontos\n",
        "\n",
        "Tivemos um total de **22** dias de operação, destes **15** tiveram saldo positivo e **7** com saldo negativo"
      ]
    },
    {
      "cell_type": "code",
      "metadata": {
        "id": "wkIzO6mARv5c",
        "colab_type": "code",
        "outputId": "e0aeb63e-f4dd-4b3f-a26a-06e08ae27442",
        "colab": {
          "base_uri": "https://localhost:8080/",
          "height": 34
        }
      },
      "source": [
        "#Stops Maiores que 500 pontos\n",
        "df['Resultado Pontos'].lt(-500).sum()\n"
      ],
      "execution_count": 113,
      "outputs": [
        {
          "output_type": "execute_result",
          "data": {
            "text/plain": [
              "7"
            ]
          },
          "metadata": {
            "tags": []
          },
          "execution_count": 113
        }
      ]
    },
    {
      "cell_type": "code",
      "metadata": {
        "id": "q_FX-TuPTBDM",
        "colab_type": "code",
        "outputId": "0a1cafcf-ee8a-494e-ac6f-31fb4d6eb7cb",
        "colab": {
          "base_uri": "https://localhost:8080/",
          "height": 326
        }
      },
      "source": [
        "df.plot(x='Dia', y='Resultado Pontos', style='o');\n",
        "plt.xticks(rotation=90);"
      ],
      "execution_count": 116,
      "outputs": [
        {
          "output_type": "display_data",
          "data": {
            "image/png": "[encoded data removed]",
            "text/plain": [
              "<Figure size 432x288 with 1 Axes>"
            ]
          },
          "metadata": {
            "tags": []
          }
        }
      ]
    },
    {
      "cell_type": "code",
      "metadata": {
        "id": "a0eqdoBrYaKo",
        "colab_type": "code",
        "outputId": "ef275182-91a2-4d06-b8ea-6d3896a16512",
        "colab": {
          "base_uri": "https://localhost:8080/",
          "height": 264
        }
      },
      "source": [
        "df['Resultado Pontos'].hist();"
      ],
      "execution_count": 0,
      "outputs": [
        {
          "output_type": "display_data",
          "data": {
            "image/png": "[encoded data removed]",
            "text/plain": [
              "<Figure size 432x288 with 1 Axes>"
            ]
          },
          "metadata": {
            "tags": []
          }
        }
      ]
    },
    {
      "cell_type": "code",
      "metadata": {
        "id": "jTvwSR_3pe_o",
        "colab_type": "code",
        "outputId": "77f48a34-281d-4c6f-98a0-ee75bf05a7c3",
        "colab": {
          "base_uri": "https://localhost:8080/",
          "height": 52
        }
      },
      "source": [
        "print(\"Dias positivos: {}\".format(df_group['sum'].gt(0).sum()))\n",
        "print(\"Dias negativos: {}\".format(df_group['sum'].lt(0).sum()))"
      ],
      "execution_count": 0,
      "outputs": [
        {
          "output_type": "stream",
          "text": [
            "Dias positivos: 15\n",
            "Dias negativos: 7\n"
          ],
          "name": "stdout"
        }
      ]
    },
    {
      "cell_type": "markdown",
      "metadata": {
        "id": "L-FotBHUfdhI",
        "colab_type": "text"
      },
      "source": [
        "## Hipótese a ser validada: Se houver um limite de perda diária máxima de **200** pontos meu resultado mensal seria melhor ou pior?\n",
        "\n",
        "Vamos Testar!"
      ]
    },
    {
      "cell_type": "markdown",
      "metadata": {
        "id": "K-jqf9n1gH16",
        "colab_type": "text"
      },
      "source": [
        "Começo criando um novo dataframe onde removo todos os dias onde houveram perdas iguais ou superiores a **200** pontos"
      ]
    },
    {
      "cell_type": "code",
      "metadata": {
        "id": "5pI9vQXyqCbe",
        "colab_type": "code",
        "outputId": "fa5f7ff9-2454-4d96-dadb-60b6d5f61e2c",
        "colab": {
          "base_uri": "https://localhost:8080/",
          "height": 406
        }
      },
      "source": [
        "df_remove = df[df['Acumlado Dia'].le(-200)]\n",
        "dias = df_remove['Dia'].unique()\n",
        "\n",
        "df_dias_positivos = df.copy()\n",
        "\n",
        "remove_index = np.where(df_dias_positivos['Dia'].isin(dias))\n",
        "\n",
        "df_dias_positivos = df_dias_positivos.drop(remove_index[0])\n",
        "df_dias_positivos\n"
      ],
      "execution_count": 74,
      "outputs": [
        {
          "output_type": "execute_result",
          "data": {
            "text/html": [
              "<div>\n",
              "<style scoped>\n",
              "    .dataframe tbody tr th:only-of-type {\n",
              "        vertical-align: middle;\n",
              "    }\n",
              "\n",
              "    .dataframe tbody tr th {\n",
              "        vertical-align: top;\n",
              "    }\n",
              "\n",
              "    .dataframe thead th {\n",
              "        text-align: right;\n",
              "    }\n",
              "</style>\n",
              "<table border=\"1\" class=\"dataframe\">\n",
              "  <thead>\n",
              "    <tr style=\"text-align: right;\">\n",
              "      <th></th>\n",
              "      <th>Ativo</th>\n",
              "      <th>Dia</th>\n",
              "      <th>Abertura</th>\n",
              "      <th>Fechamento</th>\n",
              "      <th>Tempo Operação</th>\n",
              "      <th>Qtd</th>\n",
              "      <th>Lado</th>\n",
              "      <th>Preço Compra</th>\n",
              "      <th>Preço Venda</th>\n",
              "      <th>Resultado Financeiro</th>\n",
              "      <th>Resultado Pontos</th>\n",
              "      <th>Total Acumulado</th>\n",
              "      <th>Acumlado Dia</th>\n",
              "    </tr>\n",
              "  </thead>\n",
              "  <tbody>\n",
              "    <tr>\n",
              "      <th>0</th>\n",
              "      <td>WING20</td>\n",
              "      <td>02/01/2020</td>\n",
              "      <td>02/01/2020 09:35</td>\n",
              "      <td>02/01/2020 09:59</td>\n",
              "      <td>23min47s</td>\n",
              "      <td>1</td>\n",
              "      <td>C</td>\n",
              "      <td>117.095,00</td>\n",
              "      <td>116.990,00</td>\n",
              "      <td>-21</td>\n",
              "      <td>-105</td>\n",
              "      <td>-21</td>\n",
              "      <td>-105</td>\n",
              "    </tr>\n",
              "    <tr>\n",
              "      <th>1</th>\n",
              "      <td>WING20</td>\n",
              "      <td>02/01/2020</td>\n",
              "      <td>02/01/2020 10:07</td>\n",
              "      <td>02/01/2020 10:12</td>\n",
              "      <td>4min57s</td>\n",
              "      <td>1</td>\n",
              "      <td>C</td>\n",
              "      <td>117.070,00</td>\n",
              "      <td>117.075,00</td>\n",
              "      <td>1</td>\n",
              "      <td>5</td>\n",
              "      <td>-20</td>\n",
              "      <td>-100</td>\n",
              "    </tr>\n",
              "    <tr>\n",
              "      <th>2</th>\n",
              "      <td>WING20</td>\n",
              "      <td>02/01/2020</td>\n",
              "      <td>02/01/2020 10:17</td>\n",
              "      <td>02/01/2020 10:22</td>\n",
              "      <td>5min27s</td>\n",
              "      <td>1</td>\n",
              "      <td>C</td>\n",
              "      <td>116.990,00</td>\n",
              "      <td>117.050,00</td>\n",
              "      <td>12</td>\n",
              "      <td>60</td>\n",
              "      <td>-8</td>\n",
              "      <td>-40</td>\n",
              "    </tr>\n",
              "    <tr>\n",
              "      <th>3</th>\n",
              "      <td>WING20</td>\n",
              "      <td>02/01/2020</td>\n",
              "      <td>02/01/2020 10:27</td>\n",
              "      <td>02/01/2020 10:30</td>\n",
              "      <td>2min53s</td>\n",
              "      <td>1</td>\n",
              "      <td>C</td>\n",
              "      <td>116.995,00</td>\n",
              "      <td>117.085,00</td>\n",
              "      <td>18</td>\n",
              "      <td>90</td>\n",
              "      <td>10</td>\n",
              "      <td>50</td>\n",
              "    </tr>\n",
              "    <tr>\n",
              "      <th>4</th>\n",
              "      <td>WING20</td>\n",
              "      <td>02/01/2020</td>\n",
              "      <td>02/01/2020 11:10</td>\n",
              "      <td>02/01/2020 11:11</td>\n",
              "      <td>25s</td>\n",
              "      <td>1</td>\n",
              "      <td>C</td>\n",
              "      <td>117.530,00</td>\n",
              "      <td>117.580,00</td>\n",
              "      <td>10</td>\n",
              "      <td>50</td>\n",
              "      <td>20</td>\n",
              "      <td>100</td>\n",
              "    </tr>\n",
              "    <tr>\n",
              "      <th>...</th>\n",
              "      <td>...</td>\n",
              "      <td>...</td>\n",
              "      <td>...</td>\n",
              "      <td>...</td>\n",
              "      <td>...</td>\n",
              "      <td>...</td>\n",
              "      <td>...</td>\n",
              "      <td>...</td>\n",
              "      <td>...</td>\n",
              "      <td>...</td>\n",
              "      <td>...</td>\n",
              "      <td>...</td>\n",
              "      <td>...</td>\n",
              "    </tr>\n",
              "    <tr>\n",
              "      <th>402</th>\n",
              "      <td>WING20</td>\n",
              "      <td>31/01/2020</td>\n",
              "      <td>31/01/2020 13:11</td>\n",
              "      <td>31/01/2020 13:11</td>\n",
              "      <td>30s</td>\n",
              "      <td>1</td>\n",
              "      <td>V</td>\n",
              "      <td>113.605,00</td>\n",
              "      <td>113.695,00</td>\n",
              "      <td>18</td>\n",
              "      <td>90</td>\n",
              "      <td>67</td>\n",
              "      <td>525</td>\n",
              "    </tr>\n",
              "    <tr>\n",
              "      <th>403</th>\n",
              "      <td>WING20</td>\n",
              "      <td>31/01/2020</td>\n",
              "      <td>31/01/2020 13:19</td>\n",
              "      <td>31/01/2020 13:23</td>\n",
              "      <td>4min36s</td>\n",
              "      <td>1</td>\n",
              "      <td>V</td>\n",
              "      <td>113.545,00</td>\n",
              "      <td>113.630,00</td>\n",
              "      <td>17</td>\n",
              "      <td>85</td>\n",
              "      <td>84</td>\n",
              "      <td>610</td>\n",
              "    </tr>\n",
              "    <tr>\n",
              "      <th>404</th>\n",
              "      <td>WING20</td>\n",
              "      <td>31/01/2020</td>\n",
              "      <td>31/01/2020 13:40</td>\n",
              "      <td>31/01/2020 14:13</td>\n",
              "      <td>33min49s</td>\n",
              "      <td>1</td>\n",
              "      <td>V</td>\n",
              "      <td>113.730,00</td>\n",
              "      <td>113.470,00</td>\n",
              "      <td>-52</td>\n",
              "      <td>-260</td>\n",
              "      <td>32</td>\n",
              "      <td>350</td>\n",
              "    </tr>\n",
              "    <tr>\n",
              "      <th>405</th>\n",
              "      <td>WING20</td>\n",
              "      <td>31/01/2020</td>\n",
              "      <td>31/01/2020 14:35</td>\n",
              "      <td>31/01/2020 14:44</td>\n",
              "      <td>9min43s</td>\n",
              "      <td>1</td>\n",
              "      <td>C</td>\n",
              "      <td>113.850,00</td>\n",
              "      <td>113.730,00</td>\n",
              "      <td>-24</td>\n",
              "      <td>-120</td>\n",
              "      <td>8</td>\n",
              "      <td>230</td>\n",
              "    </tr>\n",
              "    <tr>\n",
              "      <th>406</th>\n",
              "      <td>WING20</td>\n",
              "      <td>31/01/2020</td>\n",
              "      <td>31/01/2020 14:54</td>\n",
              "      <td>31/01/2020 15:07</td>\n",
              "      <td>13min3s</td>\n",
              "      <td>1</td>\n",
              "      <td>V</td>\n",
              "      <td>113.655,00</td>\n",
              "      <td>113.675,00</td>\n",
              "      <td>4</td>\n",
              "      <td>20</td>\n",
              "      <td>12</td>\n",
              "      <td>250</td>\n",
              "    </tr>\n",
              "  </tbody>\n",
              "</table>\n",
              "<p>224 rows × 13 columns</p>\n",
              "</div>"
            ],
            "text/plain": [
              "      Ativo         Dia  ... Total Acumulado Acumlado Dia\n",
              "0    WING20  02/01/2020  ...             -21         -105\n",
              "1    WING20  02/01/2020  ...             -20         -100\n",
              "2    WING20  02/01/2020  ...              -8          -40\n",
              "3    WING20  02/01/2020  ...              10           50\n",
              "4    WING20  02/01/2020  ...              20          100\n",
              "..      ...         ...  ...             ...          ...\n",
              "402  WING20  31/01/2020  ...              67          525\n",
              "403  WING20  31/01/2020  ...              84          610\n",
              "404  WING20  31/01/2020  ...              32          350\n",
              "405  WING20  31/01/2020  ...               8          230\n",
              "406  WING20  31/01/2020  ...              12          250\n",
              "\n",
              "[224 rows x 13 columns]"
            ]
          },
          "metadata": {
            "tags": []
          },
          "execution_count": 74
        }
      ]
    },
    {
      "cell_type": "markdown",
      "metadata": {
        "id": "3Wnr332ogZjC",
        "colab_type": "text"
      },
      "source": [
        "### Neste dataframe agrupo os dias em que tive perda superior a 200 pontos e qual a quantidade de pontos exata após a superação do limite de perda diária\n",
        "\n",
        "O tota de perdas no mês foi **-2835** pontos"
      ]
    },
    {
      "cell_type": "code",
      "metadata": {
        "id": "Ah0ZEDgasPpy",
        "colab_type": "code",
        "colab": {
          "base_uri": "https://localhost:8080/",
          "height": 377
        },
        "outputId": "e083c412-af52-4096-c302-a756c4b7befb"
      },
      "source": [
        "#Total de Loss\n",
        "df_dias_negativos = df_remove.groupby('Dia').first()\n",
        "df_negativos = pd.DataFrame(df_dias_negativos['Acumlado Dia'])\n",
        "df_negativos"
      ],
      "execution_count": 36,
      "outputs": [
        {
          "output_type": "execute_result",
          "data": {
            "text/html": [
              "<div>\n",
              "<style scoped>\n",
              "    .dataframe tbody tr th:only-of-type {\n",
              "        vertical-align: middle;\n",
              "    }\n",
              "\n",
              "    .dataframe tbody tr th {\n",
              "        vertical-align: top;\n",
              "    }\n",
              "\n",
              "    .dataframe thead th {\n",
              "        text-align: right;\n",
              "    }\n",
              "</style>\n",
              "<table border=\"1\" class=\"dataframe\">\n",
              "  <thead>\n",
              "    <tr style=\"text-align: right;\">\n",
              "      <th></th>\n",
              "      <th>Acumlado Dia</th>\n",
              "    </tr>\n",
              "    <tr>\n",
              "      <th>Dia</th>\n",
              "      <th></th>\n",
              "    </tr>\n",
              "  </thead>\n",
              "  <tbody>\n",
              "    <tr>\n",
              "      <th>06/01/2020</th>\n",
              "      <td>-275</td>\n",
              "    </tr>\n",
              "    <tr>\n",
              "      <th>07/01/2020</th>\n",
              "      <td>-295</td>\n",
              "    </tr>\n",
              "    <tr>\n",
              "      <th>08/01/2020</th>\n",
              "      <td>-350</td>\n",
              "    </tr>\n",
              "    <tr>\n",
              "      <th>09/01/2020</th>\n",
              "      <td>-295</td>\n",
              "    </tr>\n",
              "    <tr>\n",
              "      <th>14/01/2020</th>\n",
              "      <td>-300</td>\n",
              "    </tr>\n",
              "    <tr>\n",
              "      <th>16/01/2020</th>\n",
              "      <td>-200</td>\n",
              "    </tr>\n",
              "    <tr>\n",
              "      <th>23/01/2020</th>\n",
              "      <td>-270</td>\n",
              "    </tr>\n",
              "    <tr>\n",
              "      <th>24/01/2020</th>\n",
              "      <td>-240</td>\n",
              "    </tr>\n",
              "    <tr>\n",
              "      <th>28/01/2020</th>\n",
              "      <td>-395</td>\n",
              "    </tr>\n",
              "    <tr>\n",
              "      <th>30/01/2020</th>\n",
              "      <td>-215</td>\n",
              "    </tr>\n",
              "  </tbody>\n",
              "</table>\n",
              "</div>"
            ],
            "text/plain": [
              "            Acumlado Dia\n",
              "Dia                     \n",
              "06/01/2020          -275\n",
              "07/01/2020          -295\n",
              "08/01/2020          -350\n",
              "09/01/2020          -295\n",
              "14/01/2020          -300\n",
              "16/01/2020          -200\n",
              "23/01/2020          -270\n",
              "24/01/2020          -240\n",
              "28/01/2020          -395\n",
              "30/01/2020          -215"
            ]
          },
          "metadata": {
            "tags": []
          },
          "execution_count": 36
        }
      ]
    },
    {
      "cell_type": "code",
      "metadata": {
        "id": "RZrmv6vAoY8x",
        "colab_type": "code",
        "colab": {
          "base_uri": "https://localhost:8080/",
          "height": 34
        },
        "outputId": "f9f21b2c-10d1-4f8a-cf73-a3dd0aa982d0"
      },
      "source": [
        "df_remove.groupby('Dia').first()['Acumlado Dia'].sum()"
      ],
      "execution_count": 23,
      "outputs": [
        {
          "output_type": "execute_result",
          "data": {
            "text/plain": [
              "-2835"
            ]
          },
          "metadata": {
            "tags": []
          },
          "execution_count": 23
        }
      ]
    },
    {
      "cell_type": "markdown",
      "metadata": {
        "id": "T3uyJugBh2UW",
        "colab_type": "text"
      },
      "source": [
        "### Aqui agrupo todos os dias positivos obtendo a soma de todos os trades por dia e o total de operações naquele dia\n",
        "\n",
        "Tivemos um total de **4775** pontos entre os dias positivos\n",
        "\n"
      ]
    },
    {
      "cell_type": "code",
      "metadata": {
        "id": "cLiJ0O-Zs03F",
        "colab_type": "code",
        "outputId": "ed54c7d2-5b11-4566-a6ed-e4f87d93f900",
        "colab": {
          "base_uri": "https://localhost:8080/",
          "height": 437
        }
      },
      "source": [
        "df_dias_positivos.groupby('Dia')['Resultado Pontos'].agg(['sum', 'count'])"
      ],
      "execution_count": 27,
      "outputs": [
        {
          "output_type": "execute_result",
          "data": {
            "text/html": [
              "<div>\n",
              "<style scoped>\n",
              "    .dataframe tbody tr th:only-of-type {\n",
              "        vertical-align: middle;\n",
              "    }\n",
              "\n",
              "    .dataframe tbody tr th {\n",
              "        vertical-align: top;\n",
              "    }\n",
              "\n",
              "    .dataframe thead th {\n",
              "        text-align: right;\n",
              "    }\n",
              "</style>\n",
              "<table border=\"1\" class=\"dataframe\">\n",
              "  <thead>\n",
              "    <tr style=\"text-align: right;\">\n",
              "      <th></th>\n",
              "      <th>sum</th>\n",
              "      <th>count</th>\n",
              "    </tr>\n",
              "    <tr>\n",
              "      <th>Dia</th>\n",
              "      <th></th>\n",
              "      <th></th>\n",
              "    </tr>\n",
              "  </thead>\n",
              "  <tbody>\n",
              "    <tr>\n",
              "      <th>02/01/2020</th>\n",
              "      <td>55</td>\n",
              "      <td>21</td>\n",
              "    </tr>\n",
              "    <tr>\n",
              "      <th>03/01/2020</th>\n",
              "      <td>285</td>\n",
              "      <td>16</td>\n",
              "    </tr>\n",
              "    <tr>\n",
              "      <th>10/01/2020</th>\n",
              "      <td>225</td>\n",
              "      <td>18</td>\n",
              "    </tr>\n",
              "    <tr>\n",
              "      <th>13/01/2020</th>\n",
              "      <td>775</td>\n",
              "      <td>19</td>\n",
              "    </tr>\n",
              "    <tr>\n",
              "      <th>15/01/2020</th>\n",
              "      <td>565</td>\n",
              "      <td>18</td>\n",
              "    </tr>\n",
              "    <tr>\n",
              "      <th>17/01/2020</th>\n",
              "      <td>510</td>\n",
              "      <td>15</td>\n",
              "    </tr>\n",
              "    <tr>\n",
              "      <th>20/01/2020</th>\n",
              "      <td>250</td>\n",
              "      <td>20</td>\n",
              "    </tr>\n",
              "    <tr>\n",
              "      <th>21/01/2020</th>\n",
              "      <td>385</td>\n",
              "      <td>24</td>\n",
              "    </tr>\n",
              "    <tr>\n",
              "      <th>22/01/2020</th>\n",
              "      <td>260</td>\n",
              "      <td>21</td>\n",
              "    </tr>\n",
              "    <tr>\n",
              "      <th>27/01/2020</th>\n",
              "      <td>460</td>\n",
              "      <td>21</td>\n",
              "    </tr>\n",
              "    <tr>\n",
              "      <th>29/01/2020</th>\n",
              "      <td>755</td>\n",
              "      <td>15</td>\n",
              "    </tr>\n",
              "    <tr>\n",
              "      <th>31/01/2020</th>\n",
              "      <td>250</td>\n",
              "      <td>16</td>\n",
              "    </tr>\n",
              "  </tbody>\n",
              "</table>\n",
              "</div>"
            ],
            "text/plain": [
              "            sum  count\n",
              "Dia                   \n",
              "02/01/2020   55     21\n",
              "03/01/2020  285     16\n",
              "10/01/2020  225     18\n",
              "13/01/2020  775     19\n",
              "15/01/2020  565     18\n",
              "17/01/2020  510     15\n",
              "20/01/2020  250     20\n",
              "21/01/2020  385     24\n",
              "22/01/2020  260     21\n",
              "27/01/2020  460     21\n",
              "29/01/2020  755     15\n",
              "31/01/2020  250     16"
            ]
          },
          "metadata": {
            "tags": []
          },
          "execution_count": 27
        }
      ]
    },
    {
      "cell_type": "code",
      "metadata": {
        "id": "KqoU1qUjr973",
        "colab_type": "code",
        "colab": {
          "base_uri": "https://localhost:8080/",
          "height": 34
        },
        "outputId": "1aa048c8-065a-4397-93a5-9b43591dea46"
      },
      "source": [
        "df_dias_positivos.groupby('Dia')['Resultado Pontos'].agg(['sum', 'count'])['sum'].sum()"
      ],
      "execution_count": 26,
      "outputs": [
        {
          "output_type": "execute_result",
          "data": {
            "text/plain": [
              "4775"
            ]
          },
          "metadata": {
            "tags": []
          },
          "execution_count": 26
        }
      ]
    },
    {
      "cell_type": "markdown",
      "metadata": {
        "id": "6k1KP3ahiLip",
        "colab_type": "text"
      },
      "source": [
        "### Finalmente neste dataframe agrupo e ordeno dias positivos e dias negativos"
      ]
    },
    {
      "cell_type": "code",
      "metadata": {
        "id": "-4IqKsYM4jD6",
        "colab_type": "code",
        "colab": {
          "base_uri": "https://localhost:8080/",
          "height": 737
        },
        "outputId": "1a965ee9-b5d9-4d6a-a12e-ece75bb8d99b"
      },
      "source": [
        "df_dias_positivos_group = df_dias_positivos.groupby('Dia')['Resultado Pontos'].agg(['sum'])\n",
        "df_negativos = df_negativos.rename(columns={\"Acumlado Dia\": \"sum\"})\n",
        "\n",
        "df_geral = pd.concat([df_dias_positivos_group, df_negativos])\n",
        "df_geral = df_geral.sort_values(by=['Dia'])\n",
        "df_geral\n"
      ],
      "execution_count": 70,
      "outputs": [
        {
          "output_type": "execute_result",
          "data": {
            "text/html": [
              "<div>\n",
              "<style scoped>\n",
              "    .dataframe tbody tr th:only-of-type {\n",
              "        vertical-align: middle;\n",
              "    }\n",
              "\n",
              "    .dataframe tbody tr th {\n",
              "        vertical-align: top;\n",
              "    }\n",
              "\n",
              "    .dataframe thead th {\n",
              "        text-align: right;\n",
              "    }\n",
              "</style>\n",
              "<table border=\"1\" class=\"dataframe\">\n",
              "  <thead>\n",
              "    <tr style=\"text-align: right;\">\n",
              "      <th></th>\n",
              "      <th>sum</th>\n",
              "    </tr>\n",
              "    <tr>\n",
              "      <th>Dia</th>\n",
              "      <th></th>\n",
              "    </tr>\n",
              "  </thead>\n",
              "  <tbody>\n",
              "    <tr>\n",
              "      <th>02/01/2020</th>\n",
              "      <td>55</td>\n",
              "    </tr>\n",
              "    <tr>\n",
              "      <th>03/01/2020</th>\n",
              "      <td>285</td>\n",
              "    </tr>\n",
              "    <tr>\n",
              "      <th>06/01/2020</th>\n",
              "      <td>-275</td>\n",
              "    </tr>\n",
              "    <tr>\n",
              "      <th>07/01/2020</th>\n",
              "      <td>-295</td>\n",
              "    </tr>\n",
              "    <tr>\n",
              "      <th>08/01/2020</th>\n",
              "      <td>-350</td>\n",
              "    </tr>\n",
              "    <tr>\n",
              "      <th>09/01/2020</th>\n",
              "      <td>-295</td>\n",
              "    </tr>\n",
              "    <tr>\n",
              "      <th>10/01/2020</th>\n",
              "      <td>225</td>\n",
              "    </tr>\n",
              "    <tr>\n",
              "      <th>13/01/2020</th>\n",
              "      <td>775</td>\n",
              "    </tr>\n",
              "    <tr>\n",
              "      <th>14/01/2020</th>\n",
              "      <td>-300</td>\n",
              "    </tr>\n",
              "    <tr>\n",
              "      <th>15/01/2020</th>\n",
              "      <td>565</td>\n",
              "    </tr>\n",
              "    <tr>\n",
              "      <th>16/01/2020</th>\n",
              "      <td>-200</td>\n",
              "    </tr>\n",
              "    <tr>\n",
              "      <th>17/01/2020</th>\n",
              "      <td>510</td>\n",
              "    </tr>\n",
              "    <tr>\n",
              "      <th>20/01/2020</th>\n",
              "      <td>250</td>\n",
              "    </tr>\n",
              "    <tr>\n",
              "      <th>21/01/2020</th>\n",
              "      <td>385</td>\n",
              "    </tr>\n",
              "    <tr>\n",
              "      <th>22/01/2020</th>\n",
              "      <td>260</td>\n",
              "    </tr>\n",
              "    <tr>\n",
              "      <th>23/01/2020</th>\n",
              "      <td>-270</td>\n",
              "    </tr>\n",
              "    <tr>\n",
              "      <th>24/01/2020</th>\n",
              "      <td>-240</td>\n",
              "    </tr>\n",
              "    <tr>\n",
              "      <th>27/01/2020</th>\n",
              "      <td>460</td>\n",
              "    </tr>\n",
              "    <tr>\n",
              "      <th>28/01/2020</th>\n",
              "      <td>-395</td>\n",
              "    </tr>\n",
              "    <tr>\n",
              "      <th>29/01/2020</th>\n",
              "      <td>755</td>\n",
              "    </tr>\n",
              "    <tr>\n",
              "      <th>30/01/2020</th>\n",
              "      <td>-215</td>\n",
              "    </tr>\n",
              "    <tr>\n",
              "      <th>31/01/2020</th>\n",
              "      <td>250</td>\n",
              "    </tr>\n",
              "  </tbody>\n",
              "</table>\n",
              "</div>"
            ],
            "text/plain": [
              "            sum\n",
              "Dia            \n",
              "02/01/2020   55\n",
              "03/01/2020  285\n",
              "06/01/2020 -275\n",
              "07/01/2020 -295\n",
              "08/01/2020 -350\n",
              "09/01/2020 -295\n",
              "10/01/2020  225\n",
              "13/01/2020  775\n",
              "14/01/2020 -300\n",
              "15/01/2020  565\n",
              "16/01/2020 -200\n",
              "17/01/2020  510\n",
              "20/01/2020  250\n",
              "21/01/2020  385\n",
              "22/01/2020  260\n",
              "23/01/2020 -270\n",
              "24/01/2020 -240\n",
              "27/01/2020  460\n",
              "28/01/2020 -395\n",
              "29/01/2020  755\n",
              "30/01/2020 -215\n",
              "31/01/2020  250"
            ]
          },
          "metadata": {
            "tags": []
          },
          "execution_count": 70
        }
      ]
    },
    {
      "cell_type": "markdown",
      "metadata": {
        "id": "4wC239PFiZqg",
        "colab_type": "text"
      },
      "source": [
        "Crio uma nova coluna no dataframe com o resultado acumulado em pontos de todas as operações por dia"
      ]
    },
    {
      "cell_type": "code",
      "metadata": {
        "id": "JYPh0YXqWxoW",
        "colab_type": "code",
        "colab": {
          "base_uri": "https://localhost:8080/",
          "height": 737
        },
        "outputId": "c14a6fc8-287f-4deb-8959-8a8fa1f64b80"
      },
      "source": [
        "df_geral['acumulado'] = df_geral.cumsum()\n",
        "df_geral"
      ],
      "execution_count": 71,
      "outputs": [
        {
          "output_type": "execute_result",
          "data": {
            "text/html": [
              "<div>\n",
              "<style scoped>\n",
              "    .dataframe tbody tr th:only-of-type {\n",
              "        vertical-align: middle;\n",
              "    }\n",
              "\n",
              "    .dataframe tbody tr th {\n",
              "        vertical-align: top;\n",
              "    }\n",
              "\n",
              "    .dataframe thead th {\n",
              "        text-align: right;\n",
              "    }\n",
              "</style>\n",
              "<table border=\"1\" class=\"dataframe\">\n",
              "  <thead>\n",
              "    <tr style=\"text-align: right;\">\n",
              "      <th></th>\n",
              "      <th>sum</th>\n",
              "      <th>acumulado</th>\n",
              "    </tr>\n",
              "    <tr>\n",
              "      <th>Dia</th>\n",
              "      <th></th>\n",
              "      <th></th>\n",
              "    </tr>\n",
              "  </thead>\n",
              "  <tbody>\n",
              "    <tr>\n",
              "      <th>02/01/2020</th>\n",
              "      <td>55</td>\n",
              "      <td>55</td>\n",
              "    </tr>\n",
              "    <tr>\n",
              "      <th>03/01/2020</th>\n",
              "      <td>285</td>\n",
              "      <td>340</td>\n",
              "    </tr>\n",
              "    <tr>\n",
              "      <th>06/01/2020</th>\n",
              "      <td>-275</td>\n",
              "      <td>65</td>\n",
              "    </tr>\n",
              "    <tr>\n",
              "      <th>07/01/2020</th>\n",
              "      <td>-295</td>\n",
              "      <td>-230</td>\n",
              "    </tr>\n",
              "    <tr>\n",
              "      <th>08/01/2020</th>\n",
              "      <td>-350</td>\n",
              "      <td>-580</td>\n",
              "    </tr>\n",
              "    <tr>\n",
              "      <th>09/01/2020</th>\n",
              "      <td>-295</td>\n",
              "      <td>-875</td>\n",
              "    </tr>\n",
              "    <tr>\n",
              "      <th>10/01/2020</th>\n",
              "      <td>225</td>\n",
              "      <td>-650</td>\n",
              "    </tr>\n",
              "    <tr>\n",
              "      <th>13/01/2020</th>\n",
              "      <td>775</td>\n",
              "      <td>125</td>\n",
              "    </tr>\n",
              "    <tr>\n",
              "      <th>14/01/2020</th>\n",
              "      <td>-300</td>\n",
              "      <td>-175</td>\n",
              "    </tr>\n",
              "    <tr>\n",
              "      <th>15/01/2020</th>\n",
              "      <td>565</td>\n",
              "      <td>390</td>\n",
              "    </tr>\n",
              "    <tr>\n",
              "      <th>16/01/2020</th>\n",
              "      <td>-200</td>\n",
              "      <td>190</td>\n",
              "    </tr>\n",
              "    <tr>\n",
              "      <th>17/01/2020</th>\n",
              "      <td>510</td>\n",
              "      <td>700</td>\n",
              "    </tr>\n",
              "    <tr>\n",
              "      <th>20/01/2020</th>\n",
              "      <td>250</td>\n",
              "      <td>950</td>\n",
              "    </tr>\n",
              "    <tr>\n",
              "      <th>21/01/2020</th>\n",
              "      <td>385</td>\n",
              "      <td>1335</td>\n",
              "    </tr>\n",
              "    <tr>\n",
              "      <th>22/01/2020</th>\n",
              "      <td>260</td>\n",
              "      <td>1595</td>\n",
              "    </tr>\n",
              "    <tr>\n",
              "      <th>23/01/2020</th>\n",
              "      <td>-270</td>\n",
              "      <td>1325</td>\n",
              "    </tr>\n",
              "    <tr>\n",
              "      <th>24/01/2020</th>\n",
              "      <td>-240</td>\n",
              "      <td>1085</td>\n",
              "    </tr>\n",
              "    <tr>\n",
              "      <th>27/01/2020</th>\n",
              "      <td>460</td>\n",
              "      <td>1545</td>\n",
              "    </tr>\n",
              "    <tr>\n",
              "      <th>28/01/2020</th>\n",
              "      <td>-395</td>\n",
              "      <td>1150</td>\n",
              "    </tr>\n",
              "    <tr>\n",
              "      <th>29/01/2020</th>\n",
              "      <td>755</td>\n",
              "      <td>1905</td>\n",
              "    </tr>\n",
              "    <tr>\n",
              "      <th>30/01/2020</th>\n",
              "      <td>-215</td>\n",
              "      <td>1690</td>\n",
              "    </tr>\n",
              "    <tr>\n",
              "      <th>31/01/2020</th>\n",
              "      <td>250</td>\n",
              "      <td>1940</td>\n",
              "    </tr>\n",
              "  </tbody>\n",
              "</table>\n",
              "</div>"
            ],
            "text/plain": [
              "            sum  acumulado\n",
              "Dia                       \n",
              "02/01/2020   55         55\n",
              "03/01/2020  285        340\n",
              "06/01/2020 -275         65\n",
              "07/01/2020 -295       -230\n",
              "08/01/2020 -350       -580\n",
              "09/01/2020 -295       -875\n",
              "10/01/2020  225       -650\n",
              "13/01/2020  775        125\n",
              "14/01/2020 -300       -175\n",
              "15/01/2020  565        390\n",
              "16/01/2020 -200        190\n",
              "17/01/2020  510        700\n",
              "20/01/2020  250        950\n",
              "21/01/2020  385       1335\n",
              "22/01/2020  260       1595\n",
              "23/01/2020 -270       1325\n",
              "24/01/2020 -240       1085\n",
              "27/01/2020  460       1545\n",
              "28/01/2020 -395       1150\n",
              "29/01/2020  755       1905\n",
              "30/01/2020 -215       1690\n",
              "31/01/2020  250       1940"
            ]
          },
          "metadata": {
            "tags": []
          },
          "execution_count": 71
        }
      ]
    },
    {
      "cell_type": "code",
      "metadata": {
        "id": "RIIYYK5fzPtL",
        "colab_type": "code",
        "colab": {
          "base_uri": "https://localhost:8080/",
          "height": 737
        },
        "outputId": "abe5a96f-bc94-47eb-cc62-e730d76c2946"
      },
      "source": [
        "df_geral['Dia'] = df_geral.index\n",
        "df_geral"
      ],
      "execution_count": 97,
      "outputs": [
        {
          "output_type": "execute_result",
          "data": {
            "text/html": [
              "<div>\n",
              "<style scoped>\n",
              "    .dataframe tbody tr th:only-of-type {\n",
              "        vertical-align: middle;\n",
              "    }\n",
              "\n",
              "    .dataframe tbody tr th {\n",
              "        vertical-align: top;\n",
              "    }\n",
              "\n",
              "    .dataframe thead th {\n",
              "        text-align: right;\n",
              "    }\n",
              "</style>\n",
              "<table border=\"1\" class=\"dataframe\">\n",
              "  <thead>\n",
              "    <tr style=\"text-align: right;\">\n",
              "      <th></th>\n",
              "      <th>sum</th>\n",
              "      <th>acumulado</th>\n",
              "      <th>Dia</th>\n",
              "    </tr>\n",
              "    <tr>\n",
              "      <th>Dia</th>\n",
              "      <th></th>\n",
              "      <th></th>\n",
              "      <th></th>\n",
              "    </tr>\n",
              "  </thead>\n",
              "  <tbody>\n",
              "    <tr>\n",
              "      <th>02/01/2020</th>\n",
              "      <td>55</td>\n",
              "      <td>55</td>\n",
              "      <td>02/01/2020</td>\n",
              "    </tr>\n",
              "    <tr>\n",
              "      <th>03/01/2020</th>\n",
              "      <td>285</td>\n",
              "      <td>340</td>\n",
              "      <td>03/01/2020</td>\n",
              "    </tr>\n",
              "    <tr>\n",
              "      <th>06/01/2020</th>\n",
              "      <td>-275</td>\n",
              "      <td>65</td>\n",
              "      <td>06/01/2020</td>\n",
              "    </tr>\n",
              "    <tr>\n",
              "      <th>07/01/2020</th>\n",
              "      <td>-295</td>\n",
              "      <td>-230</td>\n",
              "      <td>07/01/2020</td>\n",
              "    </tr>\n",
              "    <tr>\n",
              "      <th>08/01/2020</th>\n",
              "      <td>-350</td>\n",
              "      <td>-580</td>\n",
              "      <td>08/01/2020</td>\n",
              "    </tr>\n",
              "    <tr>\n",
              "      <th>09/01/2020</th>\n",
              "      <td>-295</td>\n",
              "      <td>-875</td>\n",
              "      <td>09/01/2020</td>\n",
              "    </tr>\n",
              "    <tr>\n",
              "      <th>10/01/2020</th>\n",
              "      <td>225</td>\n",
              "      <td>-650</td>\n",
              "      <td>10/01/2020</td>\n",
              "    </tr>\n",
              "    <tr>\n",
              "      <th>13/01/2020</th>\n",
              "      <td>775</td>\n",
              "      <td>125</td>\n",
              "      <td>13/01/2020</td>\n",
              "    </tr>\n",
              "    <tr>\n",
              "      <th>14/01/2020</th>\n",
              "      <td>-300</td>\n",
              "      <td>-175</td>\n",
              "      <td>14/01/2020</td>\n",
              "    </tr>\n",
              "    <tr>\n",
              "      <th>15/01/2020</th>\n",
              "      <td>565</td>\n",
              "      <td>390</td>\n",
              "      <td>15/01/2020</td>\n",
              "    </tr>\n",
              "    <tr>\n",
              "      <th>16/01/2020</th>\n",
              "      <td>-200</td>\n",
              "      <td>190</td>\n",
              "      <td>16/01/2020</td>\n",
              "    </tr>\n",
              "    <tr>\n",
              "      <th>17/01/2020</th>\n",
              "      <td>510</td>\n",
              "      <td>700</td>\n",
              "      <td>17/01/2020</td>\n",
              "    </tr>\n",
              "    <tr>\n",
              "      <th>20/01/2020</th>\n",
              "      <td>250</td>\n",
              "      <td>950</td>\n",
              "      <td>20/01/2020</td>\n",
              "    </tr>\n",
              "    <tr>\n",
              "      <th>21/01/2020</th>\n",
              "      <td>385</td>\n",
              "      <td>1335</td>\n",
              "      <td>21/01/2020</td>\n",
              "    </tr>\n",
              "    <tr>\n",
              "      <th>22/01/2020</th>\n",
              "      <td>260</td>\n",
              "      <td>1595</td>\n",
              "      <td>22/01/2020</td>\n",
              "    </tr>\n",
              "    <tr>\n",
              "      <th>23/01/2020</th>\n",
              "      <td>-270</td>\n",
              "      <td>1325</td>\n",
              "      <td>23/01/2020</td>\n",
              "    </tr>\n",
              "    <tr>\n",
              "      <th>24/01/2020</th>\n",
              "      <td>-240</td>\n",
              "      <td>1085</td>\n",
              "      <td>24/01/2020</td>\n",
              "    </tr>\n",
              "    <tr>\n",
              "      <th>27/01/2020</th>\n",
              "      <td>460</td>\n",
              "      <td>1545</td>\n",
              "      <td>27/01/2020</td>\n",
              "    </tr>\n",
              "    <tr>\n",
              "      <th>28/01/2020</th>\n",
              "      <td>-395</td>\n",
              "      <td>1150</td>\n",
              "      <td>28/01/2020</td>\n",
              "    </tr>\n",
              "    <tr>\n",
              "      <th>29/01/2020</th>\n",
              "      <td>755</td>\n",
              "      <td>1905</td>\n",
              "      <td>29/01/2020</td>\n",
              "    </tr>\n",
              "    <tr>\n",
              "      <th>30/01/2020</th>\n",
              "      <td>-215</td>\n",
              "      <td>1690</td>\n",
              "      <td>30/01/2020</td>\n",
              "    </tr>\n",
              "    <tr>\n",
              "      <th>31/01/2020</th>\n",
              "      <td>250</td>\n",
              "      <td>1940</td>\n",
              "      <td>31/01/2020</td>\n",
              "    </tr>\n",
              "  </tbody>\n",
              "</table>\n",
              "</div>"
            ],
            "text/plain": [
              "            sum  acumulado         Dia\n",
              "Dia                                   \n",
              "02/01/2020   55         55  02/01/2020\n",
              "03/01/2020  285        340  03/01/2020\n",
              "06/01/2020 -275         65  06/01/2020\n",
              "07/01/2020 -295       -230  07/01/2020\n",
              "08/01/2020 -350       -580  08/01/2020\n",
              "09/01/2020 -295       -875  09/01/2020\n",
              "10/01/2020  225       -650  10/01/2020\n",
              "13/01/2020  775        125  13/01/2020\n",
              "14/01/2020 -300       -175  14/01/2020\n",
              "15/01/2020  565        390  15/01/2020\n",
              "16/01/2020 -200        190  16/01/2020\n",
              "17/01/2020  510        700  17/01/2020\n",
              "20/01/2020  250        950  20/01/2020\n",
              "21/01/2020  385       1335  21/01/2020\n",
              "22/01/2020  260       1595  22/01/2020\n",
              "23/01/2020 -270       1325  23/01/2020\n",
              "24/01/2020 -240       1085  24/01/2020\n",
              "27/01/2020  460       1545  27/01/2020\n",
              "28/01/2020 -395       1150  28/01/2020\n",
              "29/01/2020  755       1905  29/01/2020\n",
              "30/01/2020 -215       1690  30/01/2020\n",
              "31/01/2020  250       1940  31/01/2020"
            ]
          },
          "metadata": {
            "tags": []
          },
          "execution_count": 97
        }
      ]
    },
    {
      "cell_type": "code",
      "metadata": {
        "id": "2gOCXd2B3uUH",
        "colab_type": "code",
        "outputId": "b3cd1218-f54a-40f0-91b4-b015a9ccf027",
        "colab": {
          "base_uri": "https://localhost:8080/",
          "height": 278
        }
      },
      "source": [
        "df_geral['acumulado'].plot();\n"
      ],
      "execution_count": 75,
      "outputs": [
        {
          "output_type": "display_data",
          "data": {
            "image/png": "[encoded data removed]",
            "text/plain": [
              "<Figure size 432x288 with 1 Axes>"
            ]
          },
          "metadata": {
            "tags": []
          }
        }
      ]
    },
    {
      "cell_type": "code",
      "metadata": {
        "id": "C2P4PVC6yi9z",
        "colab_type": "code",
        "colab": {
          "base_uri": "https://localhost:8080/",
          "height": 313
        },
        "outputId": "a593982f-cbdc-4ae1-da99-3d1cf97fdf32"
      },
      "source": [
        "#Comparando resultado inicial com resultado final\n",
        "plt.plot( 'Dia', 'acumulado', data=df_geral);\n",
        "plt.plot( 'Dia', 'Total Acumulado', data=df);\n",
        "plt.legend(['Resultado final', 'Resultado inicial'], loc='upper left')\n",
        "plt.xticks(rotation=90);\n",
        "\n"
      ],
      "execution_count": 111,
      "outputs": [
        {
          "output_type": "display_data",
          "data": {
            "image/png": "[encoded data removed]",
            "text/plain": [
              "<Figure size 432x288 with 1 Axes>"
            ]
          },
          "metadata": {
            "tags": []
          }
        }
      ]
    },
    {
      "cell_type": "markdown",
      "metadata": {
        "id": "iPy6de-eijF6",
        "colab_type": "text"
      },
      "source": [
        "## Finalmente obtemos o resultado final.\n",
        "\n",
        "**Conclusão**: Sim, adicionando um limite máximo de perda de 200 pontos por dia o resultado final do robô melhora consideravelmente para **1940** pontos no mês de janeiro\n",
        "\n",
        "Interessante notar que na execução inicial tivemos 15 dias positivos e 7 dias negativos com um total de **R$ 12**\n",
        "\n",
        "Após a análise e inclusão do limite de perda diário, passamos para 13 dias positivos e 9 negativos. Porém o resultado financeiro final seria de **R$ 388** (para 1 mini contrato)\n"
      ]
    }
  ]
}